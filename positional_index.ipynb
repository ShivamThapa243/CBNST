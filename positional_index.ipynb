{
  "nbformat": 4,
  "nbformat_minor": 0,
  "metadata": {
    "colab": {
      "provenance": [],
      "gpuType": "T4",
      "mount_file_id": "1UnYEeocQ97-Z6IXD-b5PRtdwyx9AFZ1g",
      "authorship_tag": "ABX9TyO79OeC0RuLB8lYfRVHuayP",
      "include_colab_link": true
    },
    "kernelspec": {
      "name": "python3",
      "display_name": "Python 3"
    },
    "language_info": {
      "name": "python"
    },
    "accelerator": "GPU"
  },
  "cells": [
    {
      "cell_type": "markdown",
      "metadata": {
        "id": "view-in-github",
        "colab_type": "text"
      },
      "source": [
        "<a href=\"https://colab.research.google.com/github/ShivamThapa243/CBNST/blob/master/positional_index.ipynb\" target=\"_parent\"><img src=\"https://colab.research.google.com/assets/colab-badge.svg\" alt=\"Open In Colab\"/></a>"
      ]
    },
    {
      "cell_type": "markdown",
      "source": [
        "# **POSITIONAL INVERTED INDEX**"
      ],
      "metadata": {
        "id": "uf3b75i_GyaO"
      }
    },
    {
      "cell_type": "markdown",
      "source": [
        "# Building a Positional Inverted Index"
      ],
      "metadata": {
        "id": "i5Lge0cvy1oo"
      }
    },
    {
      "cell_type": "code",
      "source": [
        "# connecting to google drive to access the preprocessed data set\n",
        "\n",
        "from google.colab import drive\n",
        "drive.mount('/content/drive')"
      ],
      "metadata": {
        "colab": {
          "base_uri": "https://localhost:8080/"
        },
        "id": "ViD8SrJiy7BS",
        "outputId": "c9204877-849d-48a0-af33-45f246f7e7d7"
      },
      "execution_count": 2,
      "outputs": [
        {
          "output_type": "stream",
          "name": "stdout",
          "text": [
            "Mounted at /content/drive\n"
          ]
        }
      ]
    },
    {
      "cell_type": "markdown",
      "source": [
        "**Structure of Positional Inverted Index:**\n",
        "\n",
        "    {\n",
        "      token_1: [\n",
        "          {\n",
        "            'document_id' : x, 'position' : [position_1, position_2, position_3]\n",
        "          },\n",
        "          {\n",
        "            'document_id' : y, 'position' : [position_4, position_5, position_6]\n",
        "          },\n",
        "          {\n",
        "            'document_id' : z, 'position' : [position_7, position_8, position_9]\n",
        "          }\n",
        "      ],\n",
        "      \"caesar\": [\n",
        "          {\n",
        "            'document_id' : 51, 'position' : [0, 7, 20]\n",
        "          },\n",
        "          {\n",
        "            'document_id' : 79, 'position' : [67, 81]\n",
        "          },\n",
        "          {\n",
        "            'document_id' : 103, 'position' : [4, 12, 51]\n",
        "          }\n",
        "      ], ...\n",
        "    }"
      ],
      "metadata": {
        "id": "5Eopt9iXzmQ0"
      }
    },
    {
      "cell_type": "markdown",
      "source": [
        "**Function to build a Positional Inverted Index**"
      ],
      "metadata": {
        "id": "jftjin8N-JES"
      }
    },
    {
      "cell_type": "code",
      "source": [
        "import os\n",
        "\n",
        "def positional_inverted_index_builder(dataset_directory):\n",
        "\n",
        "  positional_inverted_index = {}\n",
        "\n",
        "  list_of_files = os.listdir(dataset_directory)\n",
        "\n",
        "  for filename in list_of_files:\n",
        "    if filename.endswith(\".txt\"):\n",
        "      # reading each .txt file present in the directory\n",
        "      file_path = os.path.join(dataset_directory, filename)\n",
        "      with open(file_path, 'r') as file:\n",
        "        content = file.read()\n",
        "        tokens = content.split()\n",
        "\n",
        "        for position, token in enumerate(tokens):\n",
        "          if token not in positional_inverted_index:\n",
        "            positional_inverted_index[token] = [{'document_id': filename, 'positions': [position]}]\n",
        "          else:\n",
        "            # Check if the document entry already exists for this token\n",
        "            doc_entry_found = False\n",
        "            for entry in positional_inverted_index[token]:\n",
        "              if entry['document_id'] == filename:\n",
        "                entry['positions'].append(position)\n",
        "                doc_entry_found = True\n",
        "                break\n",
        "            # If the document entry was not found, add a new entry\n",
        "            if not doc_entry_found:\n",
        "              positional_inverted_index[token].append({'document_id': filename, 'positions': [position]})\n",
        "\n",
        "\n",
        "  return positional_inverted_index"
      ],
      "metadata": {
        "id": "uai1PPeYg1ML"
      },
      "execution_count": 3,
      "outputs": []
    },
    {
      "cell_type": "markdown",
      "source": [
        "**Invoking the positional_inverted_index_builder function to build the positional inverted index**"
      ],
      "metadata": {
        "id": "QtjnU3nO95hi"
      }
    },
    {
      "cell_type": "code",
      "source": [
        "# fetching the preprocessed data files\n",
        "dataset_directory = \"/content/drive/MyDrive/Information Retrieval/preprocessed_data\"\n",
        "\n",
        "# positional-inverted_index_builder function called\n",
        "positional_inverted_index = positional_inverted_index_builder(dataset_directory)\n",
        "\n",
        "directory_path = \"/content/drive/MyDrive/Information Retrieval\"\n",
        "text_file_name = \"positional_inverted_index.txt\"\n",
        "\n",
        "# writing the positional inverted index to a text file\n",
        "\n",
        "with open(os.path.join(directory_path, text_file_name), 'w') as file:\n",
        "    for term in positional_inverted_index:\n",
        "        file.write(f\"{term} : \\n\")\n",
        "        for entry in positional_inverted_index[term]:\n",
        "          file.write(f\"\\tDocument ID :  {entry['document_id']}\")\n",
        "          file.write(f\"\\tPositions : {entry['positions']}\\n\")\n",
        "        file.write(\"\\n\")\n",
        "\n",
        "print(\"Positional Inverted index created\")"
      ],
      "metadata": {
        "colab": {
          "base_uri": "https://localhost:8080/"
        },
        "id": "otlb-kNszi6g",
        "outputId": "37d45396-84a1-4af4-bda4-ecdac35ca7d9"
      },
      "execution_count": 4,
      "outputs": [
        {
          "output_type": "stream",
          "name": "stdout",
          "text": [
            "Positional Inverted index created\n"
          ]
        }
      ]
    },
    {
      "cell_type": "markdown",
      "source": [
        "Sorting the positional index in lexicographical order"
      ],
      "metadata": {
        "id": "qhN0d3drsJQU"
      }
    },
    {
      "cell_type": "code",
      "source": [
        "sorted_items = sorted(positional_inverted_index.items(), key = lambda x : x[0])\n",
        "sorted_positional_inverted_index = dict(sorted_items)\n",
        "\n",
        "sorted_file_name = \"sorted_positional_inverted_index.txt\"\n",
        "\n",
        "with open(os.path.join(directory_path, sorted_file_name), 'w') as file:\n",
        "  for term in sorted_positional_inverted_index:\n",
        "    file.write(f\"{term :}\\n\")\n",
        "    for entry in sorted_positional_inverted_index[term]:\n",
        "      file.write(f\"\\tDocument ID :  {entry['document_id']}\")\n",
        "      file.write(f\"\\tPositions : {entry['positions']}\\n\")\n",
        "    file.write(\"\\n\")\n",
        "\n",
        "print(\"Sorted Positional Inverted Index created\")"
      ],
      "metadata": {
        "colab": {
          "base_uri": "https://localhost:8080/"
        },
        "id": "h_3Wir8lsOTN",
        "outputId": "f05cb25c-41ca-4378-ce07-fe1cf9840e44"
      },
      "execution_count": 11,
      "outputs": [
        {
          "output_type": "stream",
          "name": "stdout",
          "text": [
            "Sorted Positional Inverted Index created\n"
          ]
        }
      ]
    },
    {
      "cell_type": "markdown",
      "source": [
        "# Pickling Positional Inverted Index"
      ],
      "metadata": {
        "id": "-64VgJM5pgFZ"
      }
    },
    {
      "cell_type": "code",
      "source": [
        "import pickle\n",
        "\n",
        "pickle_file_name = \"positional_inverted_index.pkl\"\n",
        "\n",
        "with open(os.path.join(directory_path, pickle_file_name), 'wb') as file:\n",
        "    pickle.dump(sorted_positional_inverted_index, file)\n",
        "    print(\"Positional Inverted Index pickled\")"
      ],
      "metadata": {
        "colab": {
          "base_uri": "https://localhost:8080/"
        },
        "id": "S_fBh3repfXm",
        "outputId": "967ec182-544f-467c-bf0d-25df59d9c60f"
      },
      "execution_count": 12,
      "outputs": [
        {
          "output_type": "stream",
          "name": "stdout",
          "text": [
            "Positional Inverted Index pickled\n"
          ]
        }
      ]
    },
    {
      "cell_type": "markdown",
      "source": [
        "# Handling Query Operations"
      ],
      "metadata": {
        "id": "PAaAV1BQwkTV"
      }
    },
    {
      "cell_type": "markdown",
      "source": [
        "Retrieveing the documents that matches the tokens and position"
      ],
      "metadata": {
        "id": "4PHMXiCEUE9f"
      }
    },
    {
      "cell_type": "code",
      "source": [
        "def documents_retrieval_system(tokens_list, inverted_index):\n",
        "  token_position = {}\n",
        "\n",
        "  for token in token_list:\n",
        "    if token in inverted_index:\n",
        "      for entry in inverted_index[token]:\n",
        "        document_id = entry['document_id']\n",
        "        positions = entry['posiitions']\n",
        "        if document_id not in token_position:\n",
        "          token_positiono[document_id] = []\n",
        "        token_position[document_id].append(positions)\n",
        "    else :\n",
        "      return []\n",
        "\n",
        "  consicutive_documents = []\n",
        "\n"
      ],
      "metadata": {
        "id": "wCzanEhQUNsW"
      },
      "execution_count": null,
      "outputs": []
    },
    {
      "cell_type": "markdown",
      "source": [
        "Preprocessing the string into tokens"
      ],
      "metadata": {
        "id": "l_ZR1RCoT_7S"
      }
    },
    {
      "cell_type": "code",
      "source": [
        "import nltk\n",
        "import string\n",
        "\n",
        "nltk.download('punkt')\n",
        "nltk.download('stopwords')\n",
        "\n",
        "from nltk.tokenize import word_tokenize\n",
        "from nltk.corpus import stopwords\n",
        "\n",
        "def preprocessing_query(query):\n",
        "    query = query.lower()\n",
        "    tokens = word_tokenize(query)\n",
        "\n",
        "    tokens = [word for word in tokens if word not in string.punctuation]\n",
        "\n",
        "    stop_words = set(stopwords.words('english'))\n",
        "    tokens = [word for word in tokens if word not in stop_words]\n",
        "\n",
        "    return tokens"
      ],
      "metadata": {
        "colab": {
          "base_uri": "https://localhost:8080/"
        },
        "id": "9OmmRu_IOllA",
        "outputId": "668bb401-bfbc-4f54-e0b2-9cfca5ea9bd8"
      },
      "execution_count": 2,
      "outputs": [
        {
          "output_type": "stream",
          "name": "stderr",
          "text": [
            "[nltk_data] Downloading package punkt to /root/nltk_data...\n",
            "[nltk_data]   Unzipping tokenizers/punkt.zip.\n",
            "[nltk_data] Downloading package stopwords to /root/nltk_data...\n",
            "[nltk_data]   Unzipping corpora/stopwords.zip.\n"
          ]
        }
      ]
    },
    {
      "cell_type": "markdown",
      "source": [
        "Passing query"
      ],
      "metadata": {
        "id": "CT8pfgKaxukd"
      }
    },
    {
      "cell_type": "code",
      "source": [
        "# loading the pickled poitional inverted ubdex\n",
        "import pickle\n",
        "\n",
        "pickled_file = \"/content/drive/MyDrive/Information Retrieval/positional_inverted_index.pkl\"\n",
        "inverted_index = {}\n",
        "with open(pickled_file, 'rb') as file:\n",
        "  inverted_index = pickle.load(file)\n",
        "  print(\"Positional Inverted Index loaded\")\n",
        "\n",
        "print(\"Input phrase query : \")\n",
        "query = input()\n",
        "\n",
        "# preprocessing the query\n",
        "query_token = preprocessing_query(query)\n",
        "print(\"Preprocessed tokens : \")\n",
        "print(query_token)\n",
        "\n",
        "# passing the preprocessed tokens, to search in which document they matches\n",
        "retrieved_docuents = documents_retrieval_system(query_token, inverted_index)\n",
        "print(\"Retrieved focuments : \")\n",
        "print(retrieved_docuents)"
      ],
      "metadata": {
        "colab": {
          "base_uri": "https://localhost:8080/"
        },
        "id": "cMPy2E5UxMmi",
        "outputId": "861b76ef-88fa-4429-c434-d29592318463"
      },
      "execution_count": 4,
      "outputs": [
        {
          "output_type": "stream",
          "name": "stdout",
          "text": [
            "Positional Inverted Index loaded\n",
            "Input query : \n",
            "car bag in a cAnisTER\n",
            "Preprocessed tokens : \n",
            "['car', 'bag', 'canister']\n"
          ]
        }
      ]
    }
  ]
}